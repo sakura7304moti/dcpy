{
 "cells": [
  {
   "cell_type": "code",
   "execution_count": 1,
   "id": "31a1606d-5830-4de0-b814-5fae6ed1e4a2",
   "metadata": {
    "tags": []
   },
   "outputs": [],
   "source": [
    "import requests"
   ]
  },
  {
   "cell_type": "markdown",
   "id": "bc27156c-f559-4669-a0dd-6e717e172f6f",
   "metadata": {},
   "source": [
    "## Twitter"
   ]
  },
  {
   "cell_type": "code",
   "execution_count": 4,
   "id": "abaff0eb-39b9-4af7-99c2-cb7e4324268b",
   "metadata": {
    "tags": []
   },
   "outputs": [],
   "source": [
    "url = 'http://127.0.0.1:2207/twitter/base'\n",
    "headers = { 'Content-Type': 'application/json' , 'Accept': 'text/plain'}\n",
    "data = {\n",
    "    'query' : '#笹の絵',\n",
    "    'date' : 7,\n",
    "    'limit' : 100\n",
    "}\n",
    "response = requests.post(url , json=data,headers = headers)"
   ]
  },
  {
   "cell_type": "code",
   "execution_count": null,
   "id": "6c9ecdea-8568-4fe0-aaf0-c4d4a8a97d24",
   "metadata": {},
   "outputs": [],
   "source": []
  },
  {
   "cell_type": "code",
   "execution_count": 5,
   "id": "aedf4543-3098-4170-a92a-418ef2c0ffcf",
   "metadata": {
    "tags": []
   },
   "outputs": [],
   "source": [
    "url = 'http://127.0.0.1:2207/twitter/hololist'\n",
    "response = requests.get(url)"
   ]
  },
  {
   "cell_type": "code",
   "execution_count": 6,
   "id": "b7607bbb-1f56-4f5a-8821-b12037164e32",
   "metadata": {
    "scrolled": true,
    "tags": []
   },
   "outputs": [
    {
     "data": {
      "text/plain": [
       "{'status': ['#soraArt',\n",
       "  '#ロボ子Art',\n",
       "  '#miko_Art',\n",
       "  '#ほしまちぎゃらりー',\n",
       "  '#AZKiART',\n",
       "  '#メルArt',\n",
       "  '#アロ絵',\n",
       "  '#はあとart',\n",
       "  '#絵フブキ',\n",
       "  '#祭絵',\n",
       "  '#あくあーと',\n",
       "  '#シオンの書物',\n",
       "  '#しょこらーと',\n",
       "  '#プロテインザスバル',\n",
       "  '#百鬼絵巻',\n",
       "  '#みおーん絵',\n",
       "  '#絵かゆ',\n",
       "  '#できたてころね',\n",
       "  '#ぺこらーと',\n",
       "  '#絵クロマンサー',\n",
       "  '#しらぬえ',\n",
       "  '#ノエラート',\n",
       "  '#マリンのお宝',\n",
       "  '#かなたーと',\n",
       "  '#つのまきあーと',\n",
       "  '#TOWART',\n",
       "  '#ルーナート',\n",
       "  '#みかじ絵',\n",
       "  '#LamyArt',\n",
       "  '#ねねアルバム',\n",
       "  '#ししらーと',\n",
       "  '#絵まる',\n",
       "  '#まのあろ絵',\n",
       "  '#Laplus_Artdesu',\n",
       "  '#Luillust',\n",
       "  '#こよりすけっち',\n",
       "  '#さかまた飼育日記',\n",
       "  '#いろはにも絵を',\n",
       "  '#ioarts',\n",
       "  '#HoshinovArt',\n",
       "  '#GambaRisu',\n",
       "  '#graveyART',\n",
       "  '#anyatelier',\n",
       "  '#Reinessance',\n",
       "  '#Zetacrylic',\n",
       "  '#inKaela',\n",
       "  '#AeruSeni',\n",
       "  '#callillust',\n",
       "  '#カリイラスト',\n",
       "  '#artsofashes',\n",
       "  '#絵ニックス',\n",
       "  '#inART',\n",
       "  '#いなート',\n",
       "  '#gawrt',\n",
       "  '#ameliaRT',\n",
       "  '#IRySart',\n",
       "  '#galaxillust',\n",
       "  '#FineFaunart',\n",
       "  '#kronillust',\n",
       "  '#クロニーラスト',\n",
       "  '#drawMEI',\n",
       "  '#ムメ絵',\n",
       "  '#illustrayBAE',\n",
       "  '#ベーアート',\n",
       "  '#faunline',\n",
       "  '#絵ーちゃん']}"
      ]
     },
     "execution_count": 6,
     "metadata": {},
     "output_type": "execute_result"
    }
   ],
   "source": [
    "response.json()"
   ]
  },
  {
   "cell_type": "code",
   "execution_count": null,
   "id": "ef5dd43c-ed44-43d6-8c4c-4397865485ff",
   "metadata": {},
   "outputs": [],
   "source": []
  }
 ],
 "metadata": {
  "kernelspec": {
   "display_name": "Python 3 (ipykernel)",
   "language": "python",
   "name": "python3"
  },
  "language_info": {
   "codemirror_mode": {
    "name": "ipython",
    "version": 3
   },
   "file_extension": ".py",
   "mimetype": "text/x-python",
   "name": "python",
   "nbconvert_exporter": "python",
   "pygments_lexer": "ipython3",
   "version": "3.11.2"
  }
 },
 "nbformat": 4,
 "nbformat_minor": 5
}
