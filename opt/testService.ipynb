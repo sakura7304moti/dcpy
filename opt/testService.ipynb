{
 "cells": [
  {
   "cell_type": "markdown",
   "id": "9d3b8810-2558-4826-a1af-cef2c4d78ae4",
   "metadata": {},
   "source": [
    "# Service test note"
   ]
  },
  {
   "cell_type": "markdown",
   "id": "6b22b131-bad6-4ff7-a4fd-45850a9b1e58",
   "metadata": {},
   "source": [
    "## Twitter"
   ]
  },
  {
   "cell_type": "code",
   "execution_count": 1,
   "id": "cb7631f2-d31f-4256-a2dd-7028a527c950",
   "metadata": {
    "tags": []
   },
   "outputs": [],
   "source": [
    "import sys\n",
    "sys.path.append('./model')\n",
    "sys.path.append('./utils')\n",
    "from service import twitterService"
   ]
  },
  {
   "cell_type": "code",
   "execution_count": null,
   "id": "eeab1e45-eb79-475e-a1e8-5b33fc34e806",
   "metadata": {
    "tags": []
   },
   "outputs": [
    {
     "name": "stdout",
     "output_type": "stream",
     "text": [
      "date : 2000 ,\n",
      " limit : 10000\n",
      "get tweets #AIイラスト...\n",
      "Tweet count : 10000"
     ]
    },
    {
     "name": "stderr",
     "output_type": "stream",
     "text": [
      "image DL:  22%|██████████████▌                                                   | 2200/10001 [49:29<2:54:05,  1.34s/it]"
     ]
    }
   ],
   "source": [
    "query = '#AIイラスト'\n",
    "date = 2000\n",
    "limit = 10000\n",
    "twitterService.base_download(query,date,limit)"
   ]
  },
  {
   "cell_type": "code",
   "execution_count": 3,
   "id": "a2fbd5c4-8de1-46cf-bab3-a997b323da30",
   "metadata": {
    "tags": []
   },
   "outputs": [
    {
     "name": "stdout",
     "output_type": "stream",
     "text": [
      "date : 2000 , limit : 20000\n",
      "get tweets...\n",
      "Tweet count : 18600"
     ]
    },
    {
     "name": "stderr",
     "output_type": "stream",
     "text": [
      "image DL: 100%|█████████████████████████████████████████████████████████████████| 18602/18602 [8:40:48<00:00,  1.68s/it]\n"
     ]
    }
   ],
   "source": [
    "query = '#笹の絵'\n",
    "date = 2000\n",
    "limit = 20000\n",
    "twitterService.base_download(query,date,limit)"
   ]
  },
  {
   "cell_type": "code",
   "execution_count": 4,
   "id": "d58bb62d-bb76-43bc-8af3-f29635221a17",
   "metadata": {
    "tags": []
   },
   "outputs": [
    {
     "name": "stdout",
     "output_type": "stream",
     "text": [
      "date : 1000 , limit : 5000\n",
      "get tweets...\n",
      "Tweet count : 800"
     ]
    },
    {
     "name": "stderr",
     "output_type": "stream",
     "text": [
      "image DL: 100%|███████████████████████████████████████████████████████████████████████| 863/863 [07:58<00:00,  1.80it/s]\n"
     ]
    }
   ],
   "source": [
    "query = 'lucifel99'\n",
    "date = 1000\n",
    "limit = 5000\n",
    "twitterService.user_download(query,date,limit)"
   ]
  },
  {
   "cell_type": "code",
   "execution_count": 3,
   "id": "f40b4930-f0b1-4240-834c-0e7daa24af21",
   "metadata": {
    "tags": []
   },
   "outputs": [
    {
     "data": {
      "text/plain": [
       "<Response [200]>"
      ]
     },
     "execution_count": 3,
     "metadata": {},
     "output_type": "execute_result"
    }
   ],
   "source": [
    "import requests\n",
    "requests.get('https://pbs.twimg.com/media/FtU-yWYaQAATpbu?format=jpg&name=medium')"
   ]
  },
  {
   "cell_type": "code",
   "execution_count": null,
   "id": "f2ff2918-f4c0-4e57-9a1f-255124f34d52",
   "metadata": {},
   "outputs": [],
   "source": []
  }
 ],
 "metadata": {
  "kernelspec": {
   "display_name": "Python 3 (ipykernel)",
   "language": "python",
   "name": "python3"
  },
  "language_info": {
   "codemirror_mode": {
    "name": "ipython",
    "version": 3
   },
   "file_extension": ".py",
   "mimetype": "text/x-python",
   "name": "python",
   "nbconvert_exporter": "python",
   "pygments_lexer": "ipython3",
   "version": "3.11.3"
  }
 },
 "nbformat": 4,
 "nbformat_minor": 5
}
